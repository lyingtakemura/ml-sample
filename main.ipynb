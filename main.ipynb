{
 "cells": [
  {
   "cell_type": "code",
   "execution_count": 9,
   "metadata": {},
   "outputs": [
    {
     "data": {
      "text/plain": [
       "(27312, 21)"
      ]
     },
     "execution_count": 9,
     "metadata": {},
     "output_type": "execute_result"
    }
   ],
   "source": [
    "import pandas as pd\n",
    "df = pd.read_csv(\"dataset.csv\")\n",
    "df.shape"
   ]
  },
  {
   "cell_type": "code",
   "execution_count": 10,
   "metadata": {},
   "outputs": [
    {
     "data": {
      "text/html": [
       "<div>\n",
       "<style scoped>\n",
       "    .dataframe tbody tr th:only-of-type {\n",
       "        vertical-align: middle;\n",
       "    }\n",
       "\n",
       "    .dataframe tbody tr th {\n",
       "        vertical-align: top;\n",
       "    }\n",
       "\n",
       "    .dataframe thead th {\n",
       "        text-align: right;\n",
       "    }\n",
       "</style>\n",
       "<table border=\"1\" class=\"dataframe\">\n",
       "  <thead>\n",
       "    <tr style=\"text-align: right;\">\n",
       "      <th></th>\n",
       "      <th>INCIDENT_KEY</th>\n",
       "      <th>PRECINCT</th>\n",
       "      <th>JURISDICTION_CODE</th>\n",
       "      <th>X_COORD_CD</th>\n",
       "      <th>Y_COORD_CD</th>\n",
       "      <th>Latitude</th>\n",
       "      <th>Longitude</th>\n",
       "    </tr>\n",
       "  </thead>\n",
       "  <tbody>\n",
       "    <tr>\n",
       "      <th>count</th>\n",
       "      <td>2.731200e+04</td>\n",
       "      <td>27312.000000</td>\n",
       "      <td>27310.000000</td>\n",
       "      <td>2.731200e+04</td>\n",
       "      <td>27312.000000</td>\n",
       "      <td>27302.000000</td>\n",
       "      <td>27302.000000</td>\n",
       "    </tr>\n",
       "    <tr>\n",
       "      <th>mean</th>\n",
       "      <td>1.208605e+08</td>\n",
       "      <td>65.635362</td>\n",
       "      <td>0.326913</td>\n",
       "      <td>1.009449e+06</td>\n",
       "      <td>208127.401608</td>\n",
       "      <td>40.737892</td>\n",
       "      <td>-73.909051</td>\n",
       "    </tr>\n",
       "    <tr>\n",
       "      <th>std</th>\n",
       "      <td>7.341286e+07</td>\n",
       "      <td>27.305705</td>\n",
       "      <td>0.737743</td>\n",
       "      <td>1.837783e+04</td>\n",
       "      <td>31886.377757</td>\n",
       "      <td>0.087525</td>\n",
       "      <td>0.066272</td>\n",
       "    </tr>\n",
       "    <tr>\n",
       "      <th>min</th>\n",
       "      <td>9.953245e+06</td>\n",
       "      <td>1.000000</td>\n",
       "      <td>0.000000</td>\n",
       "      <td>9.149281e+05</td>\n",
       "      <td>125756.718750</td>\n",
       "      <td>40.511586</td>\n",
       "      <td>-74.249303</td>\n",
       "    </tr>\n",
       "    <tr>\n",
       "      <th>25%</th>\n",
       "      <td>6.386088e+07</td>\n",
       "      <td>44.000000</td>\n",
       "      <td>0.000000</td>\n",
       "      <td>1.000029e+06</td>\n",
       "      <td>182834.335938</td>\n",
       "      <td>40.668481</td>\n",
       "      <td>-73.943027</td>\n",
       "    </tr>\n",
       "    <tr>\n",
       "      <th>50%</th>\n",
       "      <td>9.037222e+07</td>\n",
       "      <td>68.000000</td>\n",
       "      <td>0.000000</td>\n",
       "      <td>1.007731e+06</td>\n",
       "      <td>194486.570312</td>\n",
       "      <td>40.700318</td>\n",
       "      <td>-73.915221</td>\n",
       "    </tr>\n",
       "    <tr>\n",
       "      <th>75%</th>\n",
       "      <td>1.888102e+08</td>\n",
       "      <td>81.000000</td>\n",
       "      <td>0.000000</td>\n",
       "      <td>1.016838e+06</td>\n",
       "      <td>239518.468750</td>\n",
       "      <td>40.824067</td>\n",
       "      <td>-73.882330</td>\n",
       "    </tr>\n",
       "    <tr>\n",
       "      <th>max</th>\n",
       "      <td>2.611902e+08</td>\n",
       "      <td>123.000000</td>\n",
       "      <td>2.000000</td>\n",
       "      <td>1.066815e+06</td>\n",
       "      <td>271127.687500</td>\n",
       "      <td>40.910818</td>\n",
       "      <td>-73.702046</td>\n",
       "    </tr>\n",
       "  </tbody>\n",
       "</table>\n",
       "</div>"
      ],
      "text/plain": [
       "       INCIDENT_KEY      PRECINCT  JURISDICTION_CODE    X_COORD_CD   \n",
       "count  2.731200e+04  27312.000000       27310.000000  2.731200e+04  \\\n",
       "mean   1.208605e+08     65.635362           0.326913  1.009449e+06   \n",
       "std    7.341286e+07     27.305705           0.737743  1.837783e+04   \n",
       "min    9.953245e+06      1.000000           0.000000  9.149281e+05   \n",
       "25%    6.386088e+07     44.000000           0.000000  1.000029e+06   \n",
       "50%    9.037222e+07     68.000000           0.000000  1.007731e+06   \n",
       "75%    1.888102e+08     81.000000           0.000000  1.016838e+06   \n",
       "max    2.611902e+08    123.000000           2.000000  1.066815e+06   \n",
       "\n",
       "          Y_COORD_CD      Latitude     Longitude  \n",
       "count   27312.000000  27302.000000  27302.000000  \n",
       "mean   208127.401608     40.737892    -73.909051  \n",
       "std     31886.377757      0.087525      0.066272  \n",
       "min    125756.718750     40.511586    -74.249303  \n",
       "25%    182834.335938     40.668481    -73.943027  \n",
       "50%    194486.570312     40.700318    -73.915221  \n",
       "75%    239518.468750     40.824067    -73.882330  \n",
       "max    271127.687500     40.910818    -73.702046  "
      ]
     },
     "execution_count": 10,
     "metadata": {},
     "output_type": "execute_result"
    }
   ],
   "source": [
    "df.describe()"
   ]
  }
 ],
 "metadata": {
  "kernelspec": {
   "display_name": "Python 3",
   "language": "python",
   "name": "python3"
  },
  "language_info": {
   "codemirror_mode": {
    "name": "ipython",
    "version": 3
   },
   "file_extension": ".py",
   "mimetype": "text/x-python",
   "name": "python",
   "nbconvert_exporter": "python",
   "pygments_lexer": "ipython3",
   "version": "3.9.2"
  },
  "orig_nbformat": 4
 },
 "nbformat": 4,
 "nbformat_minor": 2
}
